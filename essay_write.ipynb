{
 "cells": [
  {
   "cell_type": "markdown",
   "metadata": {},
   "source": [
    "# Essay Writer\n",
    "\n",
    "<div style=\"display: flex; align-items: center; padding: 50px;\">\n",
    "  <img height=\"200px\" style=\"width: auto; margin-right: 10px;\" width=\"200px\" src=\"https://avatars.githubusercontent.com/u/192148546?s=400&u=95d76fbb02e6c09671d87c9155f17ca1e4ef8f21&v=4\"> \n",
    "  <img height=\"200px\" style=\"width: auto;\" width=\"200px\" src=\"https://media.istockphoto.com/id/1423276663/vector/write-essay-content-on-author-work-table-vector-or-copywriter-text-editor-flat-cartoon.jpg?s=612x612&w=0&k=20&c=4lmzheNnr1TePXUm-8vAoA1VThUJeA-lLoJiuBed1Vs=\"> \n",
    "</div>\n",
    "\n",
    "## Description\n",
    "\n",
    "The `essay-writer` package is a Python tool that leverages Generative AI to generate essays on any topic. It provides both a Command-Line Interface (CLI) and a Python package for flexibility in usage. Below are its key features:\n",
    "\n",
    "### Key Features:\n",
    "\n",
    "#### **CLI-Based Essay Generation**:\n",
    "\n",
    "- Install via `pip install essay-writer`.\n",
    "\n",
    "- Generate essays directly using `python -m essay_writer --topic \"Your Topic\"`.\n",
    "\n",
    "- The tool will prompt for an OpenAI API key, stored for future use.\n",
    "\n",
    "- Reset the key using `python -m essay_writer --set-key \"your-openai-api-key\"`.\n",
    "\n",
    "#### **Python Integration**:\n",
    "\n",
    "- Import the `EssayWriter` class for programmatic use.\n",
    "\n",
    "- Use the `write_essay` method to generate essays in various formats (e.g., markdown).\n",
    "\n",
    "### **Educational Objectives**:\n",
    "\n",
    "- Demonstrates the capabilities of AI-driven essay writing.\n",
    "\n",
    "- Helps students learn Python while exploring Generative AI applications.\n",
    "\n",
    "- Offers an easy-to-use interface for integrating essay-writing into projects.\n",
    "\n",
    "- Useful for researchers studying AI-based essay generation and design techniques.\n"
   ]
  },
  {
   "cell_type": "markdown",
   "metadata": {},
   "source": [
    "## Step 1: Installing Required Packages\n",
    "\n",
    "- The function install_requirements installs the necessary packages from the requirements.txt file.\n",
    "\n",
    "- It ensures packages are installed, retrying a set number of times if the installation fails."
   ]
  },
  {
   "cell_type": "code",
   "execution_count": 1,
   "metadata": {},
   "outputs": [
    {
     "name": "stdout",
     "output_type": "stream",
     "text": [
      "🚀 Setup complete. Continue to the next cell.\n"
     ]
    }
   ],
   "source": [
    "# Boilerplate: This block goes into every notebook.\n",
    "# It sets up the environment, installs the requirements, and checks for the required environment variables.\n",
    "\n",
    "from IPython.display import clear_output\n",
    "from dotenv import load_dotenv\n",
    "import os\n",
    "\n",
    "requirements_installed = False\n",
    "max_retries = 3\n",
    "retries = 0\n",
    "REQUIRED_ENV_VARS = []\n",
    "\n",
    "\n",
    "def install_requirements():\n",
    "    \"\"\"Installs the requirements from requirements.txt file\"\"\"\n",
    "    global requirements_installed, retries\n",
    "    if requirements_installed:\n",
    "        print(\"Requirements already installed.\")\n",
    "        return\n",
    "\n",
    "    print(\"Installing requirements...\")\n",
    "    install_status = os.system(\"pip install -r requirements.txt\")\n",
    "    if install_status == 0:\n",
    "        print(\"Requirements installed successfully.\")\n",
    "        requirements_installed = True\n",
    "    else:\n",
    "        print(\"Failed to install requirements.\")\n",
    "        if retries < max_retries:\n",
    "            print(\"Retrying...\")\n",
    "            retries += 1\n",
    "            return install_requirements()\n",
    "        exit(1)\n",
    "    return\n",
    "\n",
    "\n",
    "def setup_env():\n",
    "    \"\"\"Sets up the environment variables\"\"\"\n",
    "\n",
    "    def check_env(env_var):\n",
    "        value = os.getenv(env_var)\n",
    "        if value is None:\n",
    "            print(f\"Please set the {env_var} environment variable.\")\n",
    "            exit(1)\n",
    "        else:\n",
    "            print(f\"{env_var} is set.\")\n",
    "\n",
    "    load_dotenv(override=True)\n",
    "\n",
    "    variables_to_check = REQUIRED_ENV_VARS\n",
    "\n",
    "    for var in variables_to_check:\n",
    "        check_env(var)\n",
    "\n",
    "\n",
    "install_requirements()\n",
    "clear_output(wait=True)\n",
    "setup_env()\n",
    "print(\"🚀 Setup complete. Continue to the next cell.\")\n"
   ]
  },
  {
   "cell_type": "markdown",
   "metadata": {},
   "source": [
    "## Step 2: Generate and Display Essay in Both Text and Markdown Formats\n",
    "\n",
    "##### Cell 1: Generate Essay in Text Format\n",
    "\n"
   ]
  },
  {
   "cell_type": "markdown",
   "metadata": {},
   "source": [
    "**Explanation:**\n",
    "\n",
    "- **Initialization**: `EssayWriter` is initialized to allow essay generation.\n",
    "\n",
    "- **Text Format**: The write_essay method is used with the topic \"`Cygnus Star System`\" and format \"text.\"\n",
    "\n",
    "- **Output Display**: The `essay` is printed directly as plain text."
   ]
  },
  {
   "cell_type": "code",
   "execution_count": null,
   "metadata": {},
   "outputs": [],
   "source": [
    "from essay_writer import EssayWriter\n",
    "from IPython.display import display, Markdown, clear_output\n",
    "\n",
    "writer = EssayWriter()\n",
    "\n",
    "solar_system = writer.write_essay(topic=\"History Of Nvidia Graphic Cards\",format=\"text\")\n",
    "\n",
    "md = Markdown(solar_system)\n",
    "\n",
    "clear_output()\n",
    "\n",
    "display(md)"
   ]
  },
  {
   "cell_type": "markdown",
   "metadata": {},
   "source": [
    "##### Cell 2: Generate and Display Essay in Markdown Format"
   ]
  },
  {
   "cell_type": "markdown",
   "metadata": {},
   "source": [
    "**Explanation**:\n",
    "\n",
    "- **Markdown Format**: The `write_essay` method generates the essay with the format `markdown`.\n",
    "\n",
    "- **Clear Output**: Clears previous outputs to avoid clutter.\n",
    "\n",
    "- **Markdown Display**: Displays the essay in markdown format for better readability within the Jupyter Notebook."
   ]
  },
  {
   "cell_type": "code",
   "execution_count": null,
   "metadata": {},
   "outputs": [],
   "source": [
    "from essay_writer import EssayWriter\n",
    "from IPython.display import display, Markdown, clear_output\n",
    "\n",
    "writer = EssayWriter()\n",
    "\n",
    "solar_system = writer.write_essay(topic=\"History Of Nvidia Graphic Cards\",format=\"markdown\")\n",
    "\n",
    "md = Markdown(solar_system)\n",
    "\n",
    "clear_output()\n",
    "\n",
    "display(md)"
   ]
  },
  {
   "cell_type": "markdown",
   "metadata": {},
   "source": [
    "---\n",
    "\n",
    "# Thank You for visiting The Hackers Playbook! 🌐\n",
    "\n",
    "If you liked this research material;\n",
    "\n",
    "- [Subscribe to our newsletter.](https://thehackersplaybook.substack.com)\n",
    "\n",
    "- [Follow us on LinkedIn.](https://www.linkedin.com/company/the-hackers-playbook/)\n",
    "\n",
    "- [Leave a star on our GitHub.](https://www.github.com/thehackersplaybook)\n",
    "\n",
    "<div style=\"display:flex; align-items:center; padding: 50px;\">\n",
    "<p style=\"margin-right:10px;\">\n",
    "    <img height=\"200px\" style=\"width:auto;\" width=\"200px\" src=\"https://avatars.githubusercontent.com/u/192148546?s=400&u=95d76fbb02e6c09671d87c9155f17ca1e4ef8f21&v=4\"> \n",
    "</p>\n",
    "</div>\n",
    "\n"
   ]
  }
 ],
 "metadata": {
  "kernelspec": {
   "display_name": ".venv",
   "language": "python",
   "name": "python3"
  },
  "language_info": {
   "codemirror_mode": {
    "name": "ipython",
    "version": 3
   },
   "file_extension": ".py",
   "mimetype": "text/x-python",
   "name": "python",
   "nbconvert_exporter": "python",
   "pygments_lexer": "ipython3",
   "version": "3.12.4"
  }
 },
 "nbformat": 4,
 "nbformat_minor": 2
}
