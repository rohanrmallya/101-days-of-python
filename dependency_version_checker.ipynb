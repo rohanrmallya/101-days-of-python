{
 "cells": [
  {
   "cell_type": "code",
   "execution_count": null,
   "metadata": {},
   "outputs": [],
   "source": [
    "with open (\"requirements.txt\", \"r\") as file: \n",
    "    \n",
    "    dependencies = [\n",
    "    line.strip() for line in file.readlines()\n",
    "    if '==' in line and not line.strip().startswith('#')\n",
    "]\n",
    "\n",
    "print (\"Dependencies found: \", dependencies)"
   ]
  },
  {
   "cell_type": "code",
   "execution_count": null,
   "metadata": {},
   "outputs": [],
   "source": [
    "import requests\n",
    "\n",
    "def get_latest_version(package):\n",
    "    try:\n",
    "        url = f\"https://pypi.org/pypi/{package}/json\"\n",
    "        response = requests.get(url)\n",
    "        response.raise_for_status()\n",
    "        data = response.json()\n",
    "        return data['info']['version']\n",
    "    except (requests.RequestException, KeyError):\n",
    "        return(\"Unknown Package\")\n"
   ]
  },
  {
   "cell_type": "code",
   "execution_count": null,
   "metadata": {},
   "outputs": [],
   "source": [
    "from packaging.version import Version, InvalidVersion\n",
    "\n",
    "def is_safe_to_update(current, latest):\n",
    "    try: \n",
    "        current_ver = Version(current)\n",
    "        latest_ver = Version(latest)\n",
    "    except InvalidVersion:\n",
    "        return False\n",
    "\n",
    "    return (current_ver.major == latest_ver.major) and (current_ver.minor <= latest_ver.minor)\n"
   ]
  },
  {
   "cell_type": "code",
   "execution_count": null,
   "metadata": {},
   "outputs": [],
   "source": [
    "from IPython.display import Markdown, display\n",
    "\n",
    "results = []\n",
    "\n",
    "for dep in dependencies:\n",
    "    try:\n",
    "        package, current_version = dep.split('==')\n",
    "    except ValueError:\n",
    "        print(f\"Skipping invalid entry: {dep}\")\n",
    "        continue\n",
    "\n",
    "    latest_version = get_latest_version(package)\n",
    "    safe = \"✅ Yes\" if latest_version != \"Unknown\" and is_safe_to_update(current_version, latest_version) else \"⚠️ No\"\n",
    "    results.append((package, current_version, latest_version, safe))\n",
    "\n",
    "def generate_markdown_table(results):\n",
    "    header = \"| Package | Current Version | Latest Version | Safe to Update? |\"\n",
    "    separator = \"| --- | --- | --- | --- |\"\n",
    "    rows = \"\\n\".join([f\"| {package} | {current_version} | {latest_version} | {safe} |\" for package, current_version, latest_version, safe in results])\n",
    "    return f\"{header}\\n{separator}\\n{rows}\"\n",
    "\n",
    "markdown_table = generate_markdown_table(results)\n",
    "\n",
    "display(Markdown(markdown_table))\n"
   ]
  }
 ],
 "metadata": {
  "kernelspec": {
   "display_name": ".venv",
   "language": "python",
   "name": "python3"
  },
  "language_info": {
   "codemirror_mode": {
    "name": "ipython",
    "version": 3
   },
   "file_extension": ".py",
   "mimetype": "text/x-python",
   "name": "python",
   "nbconvert_exporter": "python",
   "pygments_lexer": "ipython3",
   "version": "3.12.4"
  }
 },
 "nbformat": 4,
 "nbformat_minor": 2
}
