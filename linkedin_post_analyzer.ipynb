{
 "cells": [
  {
   "cell_type": "code",
   "execution_count": null,
   "metadata": {},
   "outputs": [],
   "source": [
    "# **LinkedIn Post Analyzer**\n",
    "\n",
    "<div style=\"display:flex; align-items:center; padding: 50px;\">\n",
    "<p style=\"margin-right:10px;\">\n",
    "    <img height=\"200px\" style=\"width:auto;\" width=\"200px\" src=\"https://avatars.githubusercontent.com/u/192148546?s=400&u=95d76fbb02e6c09671d87c9155f17ca1e4ef8f21&v=4\"> \n",
    "</p>\n",
    "<p style=\"margin-right:10px;\">\n",
    "    <img  height=\"200px\" src=\"https://images.contentstack.io/v3/assets/bltf2fca5bf44f5e817/blt34d9fdb635976e4a/669e80a79fecd86c50d59f6d/Lang_Square.png\"> \n",
    "</p>\n",
    "\n",
    "</div>\n",
    "\n",
    "Description\n",
    "The LinkedIn Post Analyzer is a Python tool that integrates OpenAI’s GPT-4 to analyze and improve LinkedIn posts. It provides structured feedback across seven key parameters that determine a post’s success.\n",
    "Features\n",
    "AI-Powered Post Analysis\n",
    "Analyzes LinkedIn posts based on 7 success metrics.\n",
    "Provides scores, strengths, weaknesses, and actionable feedback.\n",
    "Automatically rewrites posts while keeping the original intent.\n",
    "Seamless OpenAI Integration\n",
    "Uses OpenAI’s GPT-4 for intelligent analysis.\n",
    "Requires an API key stored securely using dotenv.\n",
    "Outputs results in markdown format for easy readability."
   ]
  },
  {
   "cell_type": "code",
   "execution_count": 2,
   "metadata": {},
   "outputs": [],
   "source": [
    "## Integrate Openai\n",
    "\n",
    "def analyze_post(user_post):\n",
    "    system_prompt = f\"\"\"\n",
    "        You are a linkedin post anaylzer and you are analyzing the following LinkedIn post, rate it on a scale of 1-10 for the following aspects.\n",
    "        Provide feedback and suggestions for each category.\n",
    "        Provide the title  \"# LinkedIn Post Analyzer\" at the beginning.\n",
    "        Provide an **summary of strengths & weaknesses** and a **overall rating**.\n",
    "    Also, rewrite the post with improvements while keeping its original intent and respond in markdown format.\n",
    "\n",
    "    Post:\n",
    "    {user_post}\n",
    "\n",
    "    Categories:\n",
    "    ⚡ Attention & Hook - Does it grab attention in the first sentence? `(Score out of 10)`\n",
    "    📖 Readability & Structure - Is it easy to consume? `(Score out of 10)`\n",
    "    💎 Value & Relevance - Why should the audience care? `(Score out of 10)`\n",
    "    ❤️ Emotional & Intellectual Engagement - Does it keep readers engaged? `(Score out of 10)`\n",
    "    🤝 Engagement Triggers - Does it encourage comments & shares? `(Score out of 10)`\n",
    "    🎯 Credibility & Authority - Does it establish expertise & trust? `(Score out of 10)`\n",
    "    🚀 Shareability & Algorithm Fit - Is it likely to spread? `(Score out of 10)`\n",
    "\n",
    "    Finally, rewrite the post with improvements while keeping its original intent\n",
    "    \"\"\"\n",
    "    \n",
    "    response = openai.chat.completions.create(\n",
    "        model=\"gpt-4\",\n",
    "        messages=[{\"role\": \"system\", \"content\": system_prompt},\n",
    "                {\"role\": \"user\", \"content\": user_post}]\n",
    "    )\n",
    "\n",
    "    return response.choices[0].message.content"
   ]
  }
 ],
 "metadata": {
  "kernelspec": {
   "display_name": ".venv",
   "language": "python",
   "name": "python3"
  },
  "language_info": {
   "codemirror_mode": {
    "name": "ipython",
    "version": 3
   },
   "file_extension": ".py",
   "mimetype": "text/x-python",
   "name": "python",
   "nbconvert_exporter": "python",
   "pygments_lexer": "ipython3",
   "version": "3.12.4"
  }
 },
 "nbformat": 4,
 "nbformat_minor": 2
}
